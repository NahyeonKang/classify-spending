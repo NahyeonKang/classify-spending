{
 "cells": [
  {
   "cell_type": "code",
   "execution_count": 36,
   "metadata": {},
   "outputs": [
    {
     "name": "stdout",
     "output_type": "stream",
     "text": [
      "{\n",
      "\t\"lastBuildDate\":\"Tue, 29 Aug 2023 20:24:14 +0900\",\n",
      "\t\"total\":5,\n",
      "\t\"start\":1,\n",
      "\t\"display\":5,\n",
      "\t\"items\":[\n",
      "\t\t{\n",
      "\t\t\t\"title\":\"머노까머나 신촌점\",\n",
      "\t\t\t\"link\":\"\",\n",
      "\t\t\t\"category\":\"음식점>인도음식\",\n",
      "\t\t\t\"description\":\"\",\n",
      "\t\t\t\"telephone\":\"\",\n",
      "\t\t\t\"address\":\"서울특별시 서대문구 창천동 52-25 2층\",\n",
      "\t\t\t\"roadAddress\":\"서울특별시 서대문구 연세로11길 13 2층\",\n",
      "\t\t\t\"mapx\":\"1269360452\",\n",
      "\t\t\t\"mapy\":\"375588706\"\n",
      "\t\t},\n",
      "\t\t{\n",
      "\t\t\t\"title\":\"작은스페인\",\n",
      "\t\t\t\"link\":\"http:\\/\\/instagram.com\\/little.spain.seoul\",\n",
      "\t\t\t\"category\":\"음식점>스페인음식\",\n",
      "\t\t\t\"description\":\"\",\n",
      "\t\t\t\"telephone\":\"\",\n",
      "\t\t\t\"address\":\"서울특별시 서대문구 연희동 81-27\",\n",
      "\t\t\t\"roadAddress\":\"서울특별시 서대문구 연희로25길 37\",\n",
      "\t\t\t\"mapx\":\"1269340196\",\n",
      "\t\t\t\"mapy\":\"375717835\"\n",
      "\t\t},\n",
      "\t\t{\n",
      "\t\t\t\"title\":\"정육면체\",\n",
      "\t\t\t\"link\":\"http:\\/\\/www.instagram.com\\/tastycube_\",\n",
      "\t\t\t\"category\":\"음식점>아시아음식\",\n",
      "\t\t\t\"description\":\"\",\n",
      "\t\t\t\"telephone\":\"\",\n",
      "\t\t\t\"address\":\"서울특별시 서대문구 창천동 62-18 1층 정육면체\",\n",
      "\t\t\t\"roadAddress\":\"서울특별시 서대문구 연세로5다길 22-8 1층 정육면체\",\n",
      "\t\t\t\"mapx\":\"1269346214\",\n",
      "\t\t\t\"mapy\":\"375568870\"\n",
      "\t\t},\n",
      "\t\t{\n",
      "\t\t\t\"title\":\"만동제과\",\n",
      "\t\t\t\"link\":\"https:\\/\\/blog.naver.com\\/mandongs\",\n",
      "\t\t\t\"category\":\"카페,디저트>베이커리\",\n",
      "\t\t\t\"description\":\"\",\n",
      "\t\t\t\"telephone\":\"\",\n",
      "\t\t\t\"address\":\"서울특별시 서대문구 창천동 448\",\n",
      "\t\t\t\"roadAddress\":\"서울특별시 서대문구 연희로 32\",\n",
      "\t\t\t\"mapx\":\"1269272585\",\n",
      "\t\t\t\"mapy\":\"375615260\"\n",
      "\t\t},\n",
      "\t\t{\n",
      "\t\t\t\"title\":\"에뚜왈 신촌점\",\n",
      "\t\t\t\"link\":\"https:\\/\\/www.instagram.com\\/patisserie___etoile\\/?igshid=OGQ5ZDc2ODk2ZA%3D%3D\",\n",
      "\t\t\t\"category\":\"카페,디저트>베이커리\",\n",
      "\t\t\t\"description\":\"\",\n",
      "\t\t\t\"telephone\":\"\",\n",
      "\t\t\t\"address\":\"서울특별시 서대문구 창천동 30-8 1층 105호\",\n",
      "\t\t\t\"roadAddress\":\"서울특별시 서대문구 연세로 3-3 1층 105호\",\n",
      "\t\t\t\"mapx\":\"1269366255\",\n",
      "\t\t\t\"mapy\":\"375558758\"\n",
      "\t\t}\n",
      "\t]\n",
      "}\n"
     ]
    }
   ],
   "source": [
    "import os\n",
    "import sys\n",
    "import urllib.request\n",
    "client_id = \"PhIm7ogtEm4Ac8x4eoma\" # 본인 클라이언트 아이디\n",
    "client_secret = \"BVGWsqQIii\" # 본인 키\n",
    "encText = urllib.parse.quote(\"서대문구 맛집\")\n",
    "url = f\"https://openapi.naver.com/v1/search/local?query={encText}&display=100&start=1\"# JSON 결과\n",
    "# url = \"https://openapi.naver.com/v1/search/blog.xml?query=\" + encText # XML 결과\n",
    "request = urllib.request.Request(url)\n",
    "request.add_header(\"X-Naver-Client-Id\",client_id)\n",
    "request.add_header(\"X-Naver-Client-Secret\",client_secret)\n",
    "response = urllib.request.urlopen(request)\n",
    "rescode = response.getcode()\n",
    "if(rescode==200):\n",
    "    response_body = response.read()\n",
    "    print(response_body.decode('utf-8'))\n",
    "else:\n",
    "    print(\"Error Code:\" + rescode)"
   ]
  },
  {
   "cell_type": "code",
   "execution_count": 37,
   "metadata": {},
   "outputs": [],
   "source": [
    "import json\n",
    "\n",
    "result = json.loads(response_body)"
   ]
  },
  {
   "cell_type": "code",
   "execution_count": 38,
   "metadata": {},
   "outputs": [
    {
     "data": {
      "text/plain": [
       "[{'title': '머노까머나 신촌점',\n",
       "  'link': '',\n",
       "  'category': '음식점>인도음식',\n",
       "  'description': '',\n",
       "  'telephone': '',\n",
       "  'address': '서울특별시 서대문구 창천동 52-25 2층',\n",
       "  'roadAddress': '서울특별시 서대문구 연세로11길 13 2층',\n",
       "  'mapx': '1269360452',\n",
       "  'mapy': '375588706'},\n",
       " {'title': '작은스페인',\n",
       "  'link': 'http://instagram.com/little.spain.seoul',\n",
       "  'category': '음식점>스페인음식',\n",
       "  'description': '',\n",
       "  'telephone': '',\n",
       "  'address': '서울특별시 서대문구 연희동 81-27',\n",
       "  'roadAddress': '서울특별시 서대문구 연희로25길 37',\n",
       "  'mapx': '1269340196',\n",
       "  'mapy': '375717835'},\n",
       " {'title': '정육면체',\n",
       "  'link': 'http://www.instagram.com/tastycube_',\n",
       "  'category': '음식점>아시아음식',\n",
       "  'description': '',\n",
       "  'telephone': '',\n",
       "  'address': '서울특별시 서대문구 창천동 62-18 1층 정육면체',\n",
       "  'roadAddress': '서울특별시 서대문구 연세로5다길 22-8 1층 정육면체',\n",
       "  'mapx': '1269346214',\n",
       "  'mapy': '375568870'},\n",
       " {'title': '만동제과',\n",
       "  'link': 'https://blog.naver.com/mandongs',\n",
       "  'category': '카페,디저트>베이커리',\n",
       "  'description': '',\n",
       "  'telephone': '',\n",
       "  'address': '서울특별시 서대문구 창천동 448',\n",
       "  'roadAddress': '서울특별시 서대문구 연희로 32',\n",
       "  'mapx': '1269272585',\n",
       "  'mapy': '375615260'},\n",
       " {'title': '에뚜왈 신촌점',\n",
       "  'link': 'https://www.instagram.com/patisserie___etoile/?igshid=OGQ5ZDc2ODk2ZA%3D%3D',\n",
       "  'category': '카페,디저트>베이커리',\n",
       "  'description': '',\n",
       "  'telephone': '',\n",
       "  'address': '서울특별시 서대문구 창천동 30-8 1층 105호',\n",
       "  'roadAddress': '서울특별시 서대문구 연세로 3-3 1층 105호',\n",
       "  'mapx': '1269366255',\n",
       "  'mapy': '375558758'}]"
      ]
     },
     "execution_count": 38,
     "metadata": {},
     "output_type": "execute_result"
    }
   ],
   "source": [
    "result[\"items\"]"
   ]
  },
  {
   "cell_type": "code",
   "execution_count": 39,
   "metadata": {},
   "outputs": [
    {
     "name": "stdout",
     "output_type": "stream",
     "text": [
      "Collecting selenium==4.11.2\n",
      "  Using cached https://files.pythonhosted.org/packages/10/56/8288d1813a68c1e0638515dbb777fce6d87d0d240e683216f956145310e6/selenium-4.11.2-py3-none-any.whl\n",
      "Requirement already satisfied: trio-websocket~=0.9 in c:\\users\\user\\anaconda3\\lib\\site-packages (from selenium==4.11.2) (0.10.3)\n",
      "Requirement already satisfied: trio~=0.17 in c:\\users\\user\\anaconda3\\lib\\site-packages (from selenium==4.11.2) (0.22.2)\n",
      "Collecting certifi>=2021.10.8 (from selenium==4.11.2)\n",
      "  Using cached https://files.pythonhosted.org/packages/4c/dd/2234eab22353ffc7d94e8d13177aaa050113286e93e7b40eae01fbf7c3d9/certifi-2023.7.22-py3-none-any.whl\n",
      "Collecting urllib3[socks]<3,>=1.26 (from selenium==4.11.2)\n",
      "  Using cached https://files.pythonhosted.org/packages/9b/81/62fd61001fa4b9d0df6e31d47ff49cfa9de4af03adecf339c7bc30656b37/urllib3-2.0.4-py3-none-any.whl\n",
      "Requirement already satisfied: wsproto>=0.14 in c:\\users\\user\\anaconda3\\lib\\site-packages (from trio-websocket~=0.9->selenium==4.11.2) (1.2.0)\n",
      "Requirement already satisfied: exceptiongroup in c:\\users\\user\\anaconda3\\lib\\site-packages (from trio-websocket~=0.9->selenium==4.11.2) (1.1.3)\n",
      "Requirement already satisfied: sniffio in c:\\users\\user\\anaconda3\\lib\\site-packages (from trio~=0.17->selenium==4.11.2) (1.3.0)\n",
      "Requirement already satisfied: outcome in c:\\users\\user\\anaconda3\\lib\\site-packages (from trio~=0.17->selenium==4.11.2) (1.2.0)\n",
      "Requirement already satisfied: attrs>=20.1.0 in c:\\users\\user\\anaconda3\\lib\\site-packages (from trio~=0.17->selenium==4.11.2) (23.1.0)\n",
      "Requirement already satisfied: idna in c:\\users\\user\\anaconda3\\lib\\site-packages (from trio~=0.17->selenium==4.11.2) (2.8)\n",
      "Requirement already satisfied: cffi>=1.14; os_name == \"nt\" and implementation_name != \"pypy\" in c:\\users\\user\\anaconda3\\lib\\site-packages (from trio~=0.17->selenium==4.11.2) (1.15.1)\n",
      "Requirement already satisfied: sortedcontainers in c:\\users\\user\\anaconda3\\lib\\site-packages (from trio~=0.17->selenium==4.11.2) (2.1.0)\n",
      "Requirement already satisfied: pysocks!=1.5.7,<2.0,>=1.5.6; extra == \"socks\" in c:\\users\\user\\anaconda3\\lib\\site-packages (from urllib3[socks]<3,>=1.26->selenium==4.11.2) (1.6.8)\n",
      "Requirement already satisfied: h11<1,>=0.9.0 in c:\\users\\user\\anaconda3\\lib\\site-packages (from wsproto>=0.14->trio-websocket~=0.9->selenium==4.11.2) (0.14.0)\n",
      "Requirement already satisfied: importlib-metadata; python_version < \"3.8\" in c:\\users\\user\\anaconda3\\lib\\site-packages (from attrs>=20.1.0->trio~=0.17->selenium==4.11.2) (0.0.0)\n",
      "Requirement already satisfied: pycparser in c:\\users\\user\\anaconda3\\lib\\site-packages (from cffi>=1.14; os_name == \"nt\" and implementation_name != \"pypy\"->trio~=0.17->selenium==4.11.2) (2.19)\n",
      "Requirement already satisfied: typing-extensions; python_version < \"3.8\" in c:\\users\\user\\anaconda3\\lib\\site-packages (from h11<1,>=0.9.0->wsproto>=0.14->trio-websocket~=0.9->selenium==4.11.2) (4.7.1)\n",
      "Requirement already satisfied: zipp>=0.3.2 in c:\\users\\user\\anaconda3\\lib\\site-packages (from importlib-metadata; python_version < \"3.8\"->attrs>=20.1.0->trio~=0.17->selenium==4.11.2) (0.3.3)\n",
      "Installing collected packages: certifi, urllib3, selenium\n",
      "  Found existing installation: certifi 2019.3.9\n"
     ]
    },
    {
     "name": "stderr",
     "output_type": "stream",
     "text": [
      "requests 2.21.0 has requirement urllib3<1.25,>=1.21.1, but you'll have urllib3 2.0.4 which is incompatible.\n",
      "Cannot uninstall 'certifi'. It is a distutils installed project and thus we cannot accurately determine which files belong to it which would lead to only a partial uninstall.\n"
     ]
    }
   ],
   "source": [
    "! pip install selenium==4.11.2"
   ]
  },
  {
   "cell_type": "code",
   "execution_count": 40,
   "metadata": {},
   "outputs": [],
   "source": [
    "import pandas as pd\n",
    "from selenium import webdriver\n",
    "from selenium.webdriver.chrome.service import Service\n",
    "from selenium.webdriver.common.by import By\n",
    "from selenium.webdriver.common.keys import Keys\n",
    "from selenium.webdriver.support.ui import WebDriverWait\n",
    "from webdriver_manager.chrome import ChromeDriverManager\n",
    "from selenium.webdriver.support import expected_conditions as EC\n",
    "import time"
   ]
  },
  {
   "cell_type": "code",
   "execution_count": 44,
   "metadata": {},
   "outputs": [
    {
     "ename": "SyntaxError",
     "evalue": "(unicode error) 'unicodeescape' codec can't decode bytes in position 2-3: truncated \\UXXXXXXXX escape (<ipython-input-44-95f52fb72c97>, line 4)",
     "output_type": "error",
     "traceback": [
      "\u001b[1;36m  File \u001b[1;32m\"<ipython-input-44-95f52fb72c97>\"\u001b[1;36m, line \u001b[1;32m4\u001b[0m\n\u001b[1;33m    chrome_driver_path = 'C:\\Users\\user\\git'\u001b[0m\n\u001b[1;37m                        ^\u001b[0m\n\u001b[1;31mSyntaxError\u001b[0m\u001b[1;31m:\u001b[0m (unicode error) 'unicodeescape' codec can't decode bytes in position 2-3: truncated \\UXXXXXXXX escape\n"
     ]
    }
   ],
   "source": [
    "from selenium import webdriver\n",
    "\n",
    "# Chrome 드라이버를 설치한 경로를 지정해야 합니다.\n",
    "chrome_driver_path = 'C:\\Users\\user\\git'\n",
    "\n",
    "# Chrome 드라이버 초기화\n",
    "driver = webdriver.Chrome(executable_path=chrome_driver_path)"
   ]
  },
  {
   "cell_type": "code",
   "execution_count": 41,
   "metadata": {},
   "outputs": [
    {
     "ename": "TypeError",
     "evalue": "__init__() missing 1 required positional argument: 'executable_path'",
     "output_type": "error",
     "traceback": [
      "\u001b[1;31m---------------------------------------------------------------------------\u001b[0m",
      "\u001b[1;31mTypeError\u001b[0m                                 Traceback (most recent call last)",
      "\u001b[1;32m<ipython-input-41-527f73a7970e>\u001b[0m in \u001b[0;36m<module>\u001b[1;34m\u001b[0m\n\u001b[1;32m----> 1\u001b[1;33m \u001b[0mservice\u001b[0m \u001b[1;33m=\u001b[0m \u001b[0mService\u001b[0m\u001b[1;33m(\u001b[0m\u001b[1;33m)\u001b[0m\u001b[1;33m\u001b[0m\u001b[1;33m\u001b[0m\u001b[0m\n\u001b[0m\u001b[0;32m      2\u001b[0m \u001b[0moptions\u001b[0m \u001b[1;33m=\u001b[0m \u001b[0mwebdriver\u001b[0m\u001b[1;33m.\u001b[0m\u001b[0mChromeOptions\u001b[0m\u001b[1;33m(\u001b[0m\u001b[1;33m)\u001b[0m\u001b[1;33m\u001b[0m\u001b[1;33m\u001b[0m\u001b[0m\n\u001b[0;32m      3\u001b[0m \u001b[0mdriver\u001b[0m \u001b[1;33m=\u001b[0m \u001b[0mwebdriver\u001b[0m\u001b[1;33m.\u001b[0m\u001b[0mChrome\u001b[0m\u001b[1;33m(\u001b[0m\u001b[0mservice\u001b[0m\u001b[1;33m=\u001b[0m\u001b[0mservice\u001b[0m\u001b[1;33m,\u001b[0m \u001b[0moptions\u001b[0m\u001b[1;33m=\u001b[0m\u001b[0moptions\u001b[0m\u001b[1;33m)\u001b[0m\u001b[1;33m\u001b[0m\u001b[1;33m\u001b[0m\u001b[0m\n",
      "\u001b[1;31mTypeError\u001b[0m: __init__() missing 1 required positional argument: 'executable_path'"
     ]
    }
   ],
   "source": [
    "service = Service()\n",
    "options = webdriver.ChromeOptions()\n",
    "driver = webdriver.Chrome(service=service, options=options)"
   ]
  },
  {
   "cell_type": "code",
   "execution_count": 42,
   "metadata": {},
   "outputs": [
    {
     "ename": "NameError",
     "evalue": "name 'driver' is not defined",
     "output_type": "error",
     "traceback": [
      "\u001b[1;31m---------------------------------------------------------------------------\u001b[0m",
      "\u001b[1;31mNameError\u001b[0m                                 Traceback (most recent call last)",
      "\u001b[1;32m<ipython-input-42-da4c0268733a>\u001b[0m in \u001b[0;36m<module>\u001b[1;34m\u001b[0m\n\u001b[1;32m----> 1\u001b[1;33m \u001b[0mdriver\u001b[0m\u001b[1;33m.\u001b[0m\u001b[0mget\u001b[0m\u001b[1;33m(\u001b[0m\u001b[1;34m\"https://map.naver.com/v5/search/서대문구 식당\"\u001b[0m\u001b[1;33m)\u001b[0m\u001b[1;33m\u001b[0m\u001b[1;33m\u001b[0m\u001b[0m\n\u001b[0m",
      "\u001b[1;31mNameError\u001b[0m: name 'driver' is not defined"
     ]
    }
   ],
   "source": [
    "driver.get(\"https://map.naver.com/v5/search/서대문구 식당\")"
   ]
  },
  {
   "cell_type": "code",
   "execution_count": null,
   "metadata": {},
   "outputs": [],
   "source": [
    "driver.switch_to.frame(\"searchIframe\")\n",
    "\n",
    "fnm = '' # 맨 첫번째 상호 이름입니다. 다음 페이지에서도 똑같은 상호가 나온다면, 다음 페이지가 없다고 인식하고, brk 값이 바뀌면서 반복문이 종료되지요\n",
    "brk = 1\n",
    "res = pd.DataFrame(columns=['storeName', 'storeType']) # 결과 파일은 판다스 데이터프레임으로 입력할겁니다\n",
    "\n",
    "while brk: # 페이지 설정\n",
    "    \n",
    "    # 스크롤 끝까지 내리기\n",
    "    \n",
    "    view = driver.find_element(By.CSS_SELECTOR, \"#_pcmap_list_scroll_container\")\n",
    "    SCROLL_PAUSE_TIME = 0.5\n",
    "\n",
    "    # Get scroll height\n",
    "    last_height = driver.execute_script(\"return document.querySelector('.Ryr1F').scrollHeight\")\n",
    "\n",
    "    while True:\n",
    "        # Scroll down to bottom\n",
    "        driver.execute_script(\"arguments[0].scrollTo(0, document.querySelector('.Ryr1F').scrollHeight);\", view)\n",
    "\n",
    "        # Wait to load page\n",
    "        time.sleep(SCROLL_PAUSE_TIME)\n",
    "\n",
    "        # Calculate new scroll height and compare with last scroll height\n",
    "        new_height = driver.execute_script(\"return document.querySelector('.Ryr1F').scrollHeight\")\n",
    "        if new_height == last_height:\n",
    "            break\n",
    "        last_height = new_height\n",
    "        \n",
    "    # 이름, 가게유형 가져오기 \n",
    "    \n",
    "    nm = driver.find_elements(By.CSS_SELECTOR, 'span.place_bluelink.TYaxT')\n",
    "    storetype = driver.find_elements(By.CSS_SELECTOR, 'span.KCMnt')\n",
    "    nm = list(map(lambda x: x.text, nm))\n",
    "    storetype = list(map(lambda x: x.text, storetype))\n",
    "\n",
    "        \n",
    "    res = pd.concat([res,pd.DataFrame(zip(nm, storetype), columns=['storeName', 'storeType'])],axis = 0, ignore_index=True)\n",
    "    res.to_csv('./res_naver.csv', index=False) # 데이터가 실시간으로 저장되도록 합니다\n",
    "        \n",
    "    if fnm == nm[0]:\n",
    "        brk = 0\n",
    "    else:\n",
    "        fnm = nm[0]\n",
    "\n",
    "\n",
    "    # 다음 페이지로\n",
    "    driver.find_element(By.CSS_SELECTOR, \"#app-root > div > div.XUrfU > div.zRM9F > a:nth-child(7) > svg\").click()\n",
    "    time.sleep(4) # 페이지 로딩 시간 4초"
   ]
  }
 ],
 "metadata": {
  "kernelspec": {
   "display_name": "Python 3",
   "language": "python",
   "name": "python3"
  },
  "language_info": {
   "codemirror_mode": {
    "name": "ipython",
    "version": 3
   },
   "file_extension": ".py",
   "mimetype": "text/x-python",
   "name": "python",
   "nbconvert_exporter": "python",
   "pygments_lexer": "ipython3",
   "version": "3.7.3"
  }
 },
 "nbformat": 4,
 "nbformat_minor": 2
}
