{
 "cells": [
  {
   "cell_type": "markdown",
   "id": "a35c1b42",
   "metadata": {},
   "source": [
    "## css 구조 활용 크롤링 (셀레니움)"
   ]
  },
  {
   "cell_type": "code",
   "execution_count": 221,
   "id": "11adff63",
   "metadata": {},
   "outputs": [],
   "source": [
    "import time\n",
    "from time import sleep\n",
    "import numpy as np\n",
    "import pandas as pd\n",
    "\n",
    "import requests\n",
    "from selenium import webdriver\n",
    "from selenium.webdriver.common.by import By\n",
    "from selenium.webdriver.common.keys import Keys\n",
    "from selenium.webdriver.chrome.options import Options\n",
    "from selenium.webdriver.support.ui import WebDriverWait\n",
    "from selenium.webdriver.support import expected_conditions as EC\n",
    "\n",
    "import warnings\n",
    "warnings.filterwarnings('ignore')"
   ]
  },
  {
   "cell_type": "code",
   "execution_count": 222,
   "id": "4c6cea45",
   "metadata": {},
   "outputs": [],
   "source": [
    "def page_down(num):\n",
    "    body=driver.find_element(By.CSS_SELECTOR,'body')\n",
    "    body.click()\n",
    "    for i in range(num):\n",
    "        body.send_keys(Keys.PAGE_DOWN)"
   ]
  },
  {
   "cell_type": "code",
   "execution_count": 223,
   "id": "6fdbc3b1",
   "metadata": {},
   "outputs": [],
   "source": [
    "url='https://map.naver.com/v5/search'\n",
    "driver=webdriver.Chrome()\n",
    "driver.get(url)"
   ]
  },
  {
   "cell_type": "code",
   "execution_count": 226,
   "id": "ca2b5837",
   "metadata": {},
   "outputs": [],
   "source": [
    "search=driver.find_element(By.CSS_SELECTOR,'.input_search')\n",
    "search.send_keys('양천구 카페')\n",
    "search.send_keys(Keys.ENTER)\n",
    "sleep(2)"
   ]
  },
  {
   "cell_type": "code",
   "execution_count": 227,
   "id": "7b24b2bb",
   "metadata": {},
   "outputs": [],
   "source": [
    "driver.switch_to.default_content()  # frame 초기화\n",
    "iframe_element=driver.find_element(By.ID,'searchIframe')\n",
    "driver.switch_to.frame(iframe_element)\n",
    "page_down(50)\n",
    "sleep(3)"
   ]
  },
  {
   "cell_type": "code",
   "execution_count": 310,
   "id": "b0f335c2",
   "metadata": {
    "scrolled": true
   },
   "outputs": [],
   "source": [
    "food=({'가게명':[],'업종명':[]})\n",
    "\n",
    "pages=driver.find_elements(By.CSS_SELECTOR,'.zRM9F > a')\n",
    "\n",
    "for page in range(len(pages))[1:]:\n",
    "        \n",
    "    places=driver.find_elements(By.CSS_SELECTOR,'.UEzoS.rTjJo')\n",
    "    names=driver.find_elements(By.CSS_SELECTOR,'.place_bluelink.TYaxT')\n",
    "    types=driver.find_elements(By.CSS_SELECTOR,'.KCMnt') \n",
    "\n",
    "    for place in range(len(places)):\n",
    "        food['가게명']+=[names[place].text]\n",
    "        food['업종명']+=[types[place].text]\n",
    "    \n",
    "    if not pages[-1].is_enabled(): \n",
    "        break\n",
    "    \n",
    "    if names[-1]: \n",
    "        pages[-1].click()\n",
    "        sleep(3)\n",
    "    \n",
    "    else: \n",
    "        print('페이지 인식 불가')\n",
    "        break"
   ]
  },
  {
   "cell_type": "code",
   "execution_count": 311,
   "id": "55ecac8f",
   "metadata": {},
   "outputs": [],
   "source": [
    "food=pd.DataFrame(food)"
   ]
  },
  {
   "cell_type": "code",
   "execution_count": 312,
   "id": "da82d17b",
   "metadata": {},
   "outputs": [
    {
     "name": "stdout",
     "output_type": "stream",
     "text": [
      "              가게명     업종명\n",
      "0     와플대학 신정3캠퍼스      와플\n",
      "1       플럭스커피로스터스      카페\n",
      "2        오드리토스트커피      카페\n",
      "3            엘리제이    베이커리\n",
      "4    수원의아침 행복한백화점    베이커리\n",
      "..            ...     ...\n",
      "295   파리바게뜨 양천구청점    베이커리\n",
      "296   그날의쉼표COFFEE  카페,디저트\n",
      "297   만랩커피 신정뉴타운점      카페\n",
      "298    이디야 신정네거리점      카페\n",
      "299    배스킨라빈스 신정점   아이스크림\n",
      "\n",
      "[300 rows x 2 columns]\n"
     ]
    }
   ],
   "source": [
    "print(food)"
   ]
  }
 ],
 "metadata": {
  "kernelspec": {
   "display_name": "Python 3 (ipykernel)",
   "language": "python",
   "name": "python3"
  },
  "language_info": {
   "codemirror_mode": {
    "name": "ipython",
    "version": 3
   },
   "file_extension": ".py",
   "mimetype": "text/x-python",
   "name": "python",
   "nbconvert_exporter": "python",
   "pygments_lexer": "ipython3",
   "version": "3.11.3"
  }
 },
 "nbformat": 4,
 "nbformat_minor": 5
}
