{
 "cells": [
  {
   "cell_type": "markdown",
   "id": "7ff8eee3-d0d5-48fc-b3b8-2319b4ea101d",
   "metadata": {},
   "source": [
    "# 네이버 지도 맛집, 카페 상호명 크롤링\n",
    "## 참고자료\n",
    "https://youtu.be/yQ20jZwDjTE  \n",
    "https://boringariel.tistory.com/5"
   ]
  },
  {
   "cell_type": "code",
   "execution_count": 7,
   "id": "e1b9da72",
   "metadata": {
    "collapsed": true
   },
   "outputs": [
    {
     "name": "stdout",
     "output_type": "stream",
     "text": [
      "Collecting selenium==4.11.2\n",
      "  Downloading selenium-4.11.2-py3-none-any.whl (7.2 MB)\n",
      "\u001b[2K     \u001b[90m━━━━━━━━━━━━━━━━━━━━━━━━━━━━━━━━━━━━━━━━\u001b[0m \u001b[32m7.2/7.2 MB\u001b[0m \u001b[31m37.1 MB/s\u001b[0m eta \u001b[36m0:00:00\u001b[0m00:01\u001b[0m00:01\u001b[0m\n",
      "\u001b[?25hRequirement already satisfied: trio-websocket~=0.9 in /Users/nahyeonkang/anaconda3/lib/python3.10/site-packages (from selenium==4.11.2) (0.10.2)\n",
      "Requirement already satisfied: certifi>=2021.10.8 in /Users/nahyeonkang/anaconda3/lib/python3.10/site-packages (from selenium==4.11.2) (2022.12.7)\n",
      "Requirement already satisfied: urllib3[socks]<3,>=1.26 in /Users/nahyeonkang/anaconda3/lib/python3.10/site-packages (from selenium==4.11.2) (1.26.14)\n",
      "Requirement already satisfied: trio~=0.17 in /Users/nahyeonkang/anaconda3/lib/python3.10/site-packages (from selenium==4.11.2) (0.22.0)\n",
      "Requirement already satisfied: idna in /Users/nahyeonkang/anaconda3/lib/python3.10/site-packages (from trio~=0.17->selenium==4.11.2) (3.4)\n",
      "Requirement already satisfied: exceptiongroup>=1.0.0rc9 in /Users/nahyeonkang/anaconda3/lib/python3.10/site-packages (from trio~=0.17->selenium==4.11.2) (1.1.1)\n",
      "Requirement already satisfied: sniffio in /Users/nahyeonkang/anaconda3/lib/python3.10/site-packages (from trio~=0.17->selenium==4.11.2) (1.2.0)\n",
      "Requirement already satisfied: outcome in /Users/nahyeonkang/anaconda3/lib/python3.10/site-packages (from trio~=0.17->selenium==4.11.2) (1.2.0)\n",
      "Requirement already satisfied: attrs>=19.2.0 in /Users/nahyeonkang/anaconda3/lib/python3.10/site-packages (from trio~=0.17->selenium==4.11.2) (22.1.0)\n",
      "Requirement already satisfied: sortedcontainers in /Users/nahyeonkang/anaconda3/lib/python3.10/site-packages (from trio~=0.17->selenium==4.11.2) (2.4.0)\n",
      "Requirement already satisfied: async-generator>=1.9 in /Users/nahyeonkang/anaconda3/lib/python3.10/site-packages (from trio~=0.17->selenium==4.11.2) (1.10)\n",
      "Requirement already satisfied: wsproto>=0.14 in /Users/nahyeonkang/anaconda3/lib/python3.10/site-packages (from trio-websocket~=0.9->selenium==4.11.2) (1.2.0)\n",
      "Requirement already satisfied: PySocks!=1.5.7,<2.0,>=1.5.6 in /Users/nahyeonkang/anaconda3/lib/python3.10/site-packages (from urllib3[socks]<3,>=1.26->selenium==4.11.2) (1.7.1)\n",
      "Requirement already satisfied: h11<1,>=0.9.0 in /Users/nahyeonkang/anaconda3/lib/python3.10/site-packages (from wsproto>=0.14->trio-websocket~=0.9->selenium==4.11.2) (0.14.0)\n",
      "Installing collected packages: selenium\n",
      "  Attempting uninstall: selenium\n",
      "    Found existing installation: selenium 4.8.3\n",
      "    Uninstalling selenium-4.8.3:\n",
      "      Successfully uninstalled selenium-4.8.3\n",
      "Successfully installed selenium-4.11.2\n"
     ]
    }
   ],
   "source": [
    "! pip install selenium==4.11.2"
   ]
  },
  {
   "cell_type": "code",
   "execution_count": 88,
   "id": "d2f7418e-1f64-41ff-b33f-5e1586187330",
   "metadata": {},
   "outputs": [],
   "source": [
    "import pandas as pd\n",
    "from selenium import webdriver\n",
    "from selenium.webdriver.chrome.service import Service\n",
    "from selenium.webdriver.common.by import By\n",
    "from selenium.webdriver.common.keys import Keys\n",
    "from selenium.webdriver.support.ui import WebDriverWait\n",
    "from webdriver_manager.chrome import ChromeDriverManager\n",
    "from selenium.webdriver.support import expected_conditions as EC\n",
    "import time"
   ]
  },
  {
   "cell_type": "code",
   "execution_count": 10,
   "id": "a9988ab6-f954-41d6-bcf9-07d2f930304b",
   "metadata": {},
   "outputs": [],
   "source": [
    "service = Service()\n",
    "options = webdriver.ChromeOptions()\n",
    "driver = webdriver.Chrome(service=service, options=options)"
   ]
  },
  {
   "cell_type": "code",
   "execution_count": 138,
   "id": "4ae813e6-db7d-4376-98da-cfff98d67609",
   "metadata": {},
   "outputs": [],
   "source": [
    "driver.get(\"https://map.naver.com/v5/search/성동구 식당\")"
   ]
  },
  {
   "cell_type": "markdown",
   "id": "bff8b711",
   "metadata": {},
   "source": [
    "## 페이지가 다 로딩될 때까지 기다려주세요!"
   ]
  },
  {
   "cell_type": "code",
   "execution_count": 139,
   "id": "60704e57-2d38-4c8e-a471-a99fda2b0f42",
   "metadata": {},
   "outputs": [],
   "source": [
    "driver.switch_to.frame(\"searchIframe\")\n",
    "\n",
    "fnm = '' # 맨 첫번째 상호 이름입니다. 다음 페이지에서도 똑같은 상호가 나온다면, 다음 페이지가 없다고 인식하고, brk 값이 바뀌면서 반복문이 종료되지요\n",
    "brk = 1\n",
    "res = pd.DataFrame(columns=['storeName', 'storeType']) # 결과 파일은 판다스 데이터프레임으로 입력할겁니다\n",
    "\n",
    "while brk: # 페이지 설정\n",
    "    \n",
    "    # 스크롤 끝까지 내리기\n",
    "    \n",
    "    view = driver.find_element(By.CSS_SELECTOR, \"#_pcmap_list_scroll_container\")\n",
    "    SCROLL_PAUSE_TIME = 0.5\n",
    "\n",
    "    # Get scroll height\n",
    "    last_height = driver.execute_script(\"return document.querySelector('.Ryr1F').scrollHeight\")\n",
    "\n",
    "    while True:\n",
    "        # Scroll down to bottom\n",
    "        driver.execute_script(\"arguments[0].scrollTo(0, document.querySelector('.Ryr1F').scrollHeight);\", view)\n",
    "\n",
    "        # Wait to load page\n",
    "        time.sleep(SCROLL_PAUSE_TIME)\n",
    "\n",
    "        # Calculate new scroll height and compare with last scroll height\n",
    "        new_height = driver.execute_script(\"return document.querySelector('.Ryr1F').scrollHeight\")\n",
    "        if new_height == last_height:\n",
    "            break\n",
    "        last_height = new_height\n",
    "        \n",
    "    # 이름, 가게유형 가져오기 \n",
    "    \n",
    "    nm = driver.find_elements(By.CSS_SELECTOR, 'span.place_bluelink.TYaxT')\n",
    "    storetype = driver.find_elements(By.CSS_SELECTOR, 'span.KCMnt')\n",
    "    nm = list(map(lambda x: x.text, nm))\n",
    "    storetype = list(map(lambda x: x.text, storetype))\n",
    "\n",
    "        \n",
    "    res = pd.concat([res,pd.DataFrame(zip(nm, storetype), columns=['storeName', 'storeType'])],axis = 0, ignore_index=True)\n",
    "    res.to_csv('./res_naver.csv', index=False) # 데이터가 실시간으로 저장되도록 합니다\n",
    "        \n",
    "    if fnm == nm[0]:\n",
    "        brk = 0\n",
    "    else:\n",
    "        fnm = nm[0]\n",
    "\n",
    "\n",
    "    # 다음 페이지로\n",
    "    driver.find_element(By.CSS_SELECTOR, \"#app-root > div > div.XUrfU > div.zRM9F > a:nth-child(7) > svg\").click()\n",
    "    time.sleep(4) # 페이지 로딩 시간 4초"
   ]
  },
  {
   "cell_type": "code",
   "execution_count": 140,
   "id": "33206d49",
   "metadata": {},
   "outputs": [
    {
     "data": {
      "text/html": [
       "<div>\n",
       "<style scoped>\n",
       "    .dataframe tbody tr th:only-of-type {\n",
       "        vertical-align: middle;\n",
       "    }\n",
       "\n",
       "    .dataframe tbody tr th {\n",
       "        vertical-align: top;\n",
       "    }\n",
       "\n",
       "    .dataframe thead th {\n",
       "        text-align: right;\n",
       "    }\n",
       "</style>\n",
       "<table border=\"1\" class=\"dataframe\">\n",
       "  <thead>\n",
       "    <tr style=\"text-align: right;\">\n",
       "      <th></th>\n",
       "      <th>storeName</th>\n",
       "      <th>storeType</th>\n",
       "    </tr>\n",
       "  </thead>\n",
       "  <tbody>\n",
       "    <tr>\n",
       "      <th>0</th>\n",
       "      <td>오스테리아 파로</td>\n",
       "      <td>이탈리아음식</td>\n",
       "    </tr>\n",
       "    <tr>\n",
       "      <th>1</th>\n",
       "      <td>성수다락</td>\n",
       "      <td>스파게티,파스타전문</td>\n",
       "    </tr>\n",
       "    <tr>\n",
       "      <th>2</th>\n",
       "      <td>타코튜즈데이 성수 본점</td>\n",
       "      <td>멕시코,남미음식</td>\n",
       "    </tr>\n",
       "    <tr>\n",
       "      <th>3</th>\n",
       "      <td>요쇼쿠 성수</td>\n",
       "      <td>일식당</td>\n",
       "    </tr>\n",
       "    <tr>\n",
       "      <th>4</th>\n",
       "      <td>술있는식탁 성수본점</td>\n",
       "      <td>요리주점</td>\n",
       "    </tr>\n",
       "    <tr>\n",
       "      <th>...</th>\n",
       "      <td>...</td>\n",
       "      <td>...</td>\n",
       "    </tr>\n",
       "    <tr>\n",
       "      <th>345</th>\n",
       "      <td>리타르단도</td>\n",
       "      <td>양식</td>\n",
       "    </tr>\n",
       "    <tr>\n",
       "      <th>346</th>\n",
       "      <td>스시오오모토</td>\n",
       "      <td>일식당</td>\n",
       "    </tr>\n",
       "    <tr>\n",
       "      <th>347</th>\n",
       "      <td>성수일구</td>\n",
       "      <td>일식당</td>\n",
       "    </tr>\n",
       "    <tr>\n",
       "      <th>348</th>\n",
       "      <td>오와리 뚝섬점</td>\n",
       "      <td>이자카야</td>\n",
       "    </tr>\n",
       "    <tr>\n",
       "      <th>349</th>\n",
       "      <td>잠수교집 성수 직영점</td>\n",
       "      <td>돼지고기구이</td>\n",
       "    </tr>\n",
       "  </tbody>\n",
       "</table>\n",
       "<p>350 rows × 2 columns</p>\n",
       "</div>"
      ],
      "text/plain": [
       "        storeName   storeType\n",
       "0        오스테리아 파로      이탈리아음식\n",
       "1            성수다락  스파게티,파스타전문\n",
       "2    타코튜즈데이 성수 본점    멕시코,남미음식\n",
       "3          요쇼쿠 성수         일식당\n",
       "4      술있는식탁 성수본점        요리주점\n",
       "..            ...         ...\n",
       "345         리타르단도          양식\n",
       "346        스시오오모토         일식당\n",
       "347          성수일구         일식당\n",
       "348       오와리 뚝섬점        이자카야\n",
       "349   잠수교집 성수 직영점      돼지고기구이\n",
       "\n",
       "[350 rows x 2 columns]"
      ]
     },
     "execution_count": 140,
     "metadata": {},
     "output_type": "execute_result"
    }
   ],
   "source": [
    "res"
   ]
  }
 ],
 "metadata": {
  "kernelspec": {
   "display_name": "Python 3 (ipykernel)",
   "language": "python",
   "name": "python3"
  },
  "language_info": {
   "codemirror_mode": {
    "name": "ipython",
    "version": 3
   },
   "file_extension": ".py",
   "mimetype": "text/x-python",
   "name": "python",
   "nbconvert_exporter": "python",
   "pygments_lexer": "ipython3",
   "version": "3.10.9"
  }
 },
 "nbformat": 4,
 "nbformat_minor": 5
}
