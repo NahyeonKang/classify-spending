{
 "cells": [
  {
   "cell_type": "markdown",
   "id": "4b9236a7",
   "metadata": {},
   "source": [
    "- **find_element**\n",
    "    - https://hyunsooworld.tistory.com/entry/%EC%85%80%EB%A0%88%EB%8B%88%EC%9B%80-%EC%98%A4%EB%A5%98-AttributeError-WebDriver-object-has-no-attribute-findelementbycssselector-%EC%98%A4%EB%A5%98%ED%95%B4%EA%B2%B0"
   ]
  },
  {
   "cell_type": "code",
   "execution_count": null,
   "id": "9b668956",
   "metadata": {
    "ExecuteTime": {
     "end_time": "2023-08-23T08:18:07.724595Z",
     "start_time": "2023-08-23T08:18:07.697596Z"
    }
   },
   "outputs": [],
   "source": [
    "# !pip install selenium"
   ]
  },
  {
   "cell_type": "markdown",
   "id": "b726dbab",
   "metadata": {},
   "source": [
    "### Import"
   ]
  },
  {
   "cell_type": "code",
   "execution_count": 1,
   "id": "721cb56b",
   "metadata": {
    "ExecuteTime": {
     "end_time": "2023-08-23T08:26:48.342222Z",
     "start_time": "2023-08-23T08:26:45.948175Z"
    }
   },
   "outputs": [],
   "source": [
    "import time\n",
    "import pandas as pd\n",
    "\n",
    "import requests\n",
    "from bs4 import BeautifulSoup\n",
    "from selenium import webdriver\n",
    "from selenium.webdriver.common.by import By\n",
    "from selenium.webdriver.common.keys import Keys\n",
    "from selenium.webdriver.chrome.options import Options\n",
    "from selenium.webdriver.support.ui import WebDriverWait\n",
    "from selenium.webdriver.support import expected_conditions as EC\n",
    "\n",
    "import warnings\n",
    "warnings.filterwarnings(\"ignore\")"
   ]
  },
  {
   "cell_type": "markdown",
   "id": "6bfdfa84",
   "metadata": {},
   "source": [
    "### 크롬 브라우저"
   ]
  },
  {
   "cell_type": "code",
   "execution_count": 2,
   "id": "47933f81",
   "metadata": {
    "ExecuteTime": {
     "end_time": "2023-08-23T08:26:48.982226Z",
     "start_time": "2023-08-23T08:26:48.967230Z"
    }
   },
   "outputs": [],
   "source": [
    "def Open_chrome(search:str):\n",
    "    \n",
    "    ''' 📢 원하는 검색어 입력해서 크롬 브라우저 열기 '''\n",
    "    \n",
    "    url = \"https://map.naver.com/v5/search/\" + search\n",
    "\n",
    "    driver = webdriver.Chrome()\n",
    "    driver.get(url)\n",
    "\n",
    "    # iframe\n",
    "    iframe_element = driver.find_element(By.ID, \"searchIframe\")\n",
    "    driver.switch_to.frame(iframe_element)\n",
    "    \n",
    "    return driver"
   ]
  },
  {
   "cell_type": "markdown",
   "id": "1cde42aa",
   "metadata": {},
   "source": [
    "### 스크롤 조정"
   ]
  },
  {
   "cell_type": "code",
   "execution_count": 3,
   "id": "a148cfa3",
   "metadata": {
    "ExecuteTime": {
     "end_time": "2023-08-23T08:26:50.338752Z",
     "start_time": "2023-08-23T08:26:50.314752Z"
    }
   },
   "outputs": [],
   "source": [
    "def scroll_container_by_amount(driver, container_element):\n",
    "    \n",
    "    ''' 📢 스크롤 끝까지 내리기 '''\n",
    "    \n",
    "    prev_scroll_height = 0\n",
    "    \n",
    "    while True:\n",
    "        driver.execute_script(\"arguments[0].scrollTop = arguments[0].scrollHeight;\", container_element)\n",
    "        time.sleep(1.5)\n",
    "        \n",
    "        curr_scroll_height = driver.execute_script(\"return arguments[0].scrollHeight;\", container_element)\n",
    "        \n",
    "        if curr_scroll_height == prev_scroll_height:\n",
    "            break\n",
    "        \n",
    "        prev_scroll_height = curr_scroll_height"
   ]
  },
  {
   "cell_type": "markdown",
   "id": "da72b229",
   "metadata": {},
   "source": [
    "### 크롤링"
   ]
  },
  {
   "cell_type": "code",
   "execution_count": 4,
   "id": "28786d41",
   "metadata": {
    "ExecuteTime": {
     "end_time": "2023-08-23T08:26:54.118791Z",
     "start_time": "2023-08-23T08:26:54.096793Z"
    }
   },
   "outputs": [],
   "source": [
    "def Navermap_crawling(search:str, ele_tag:str, name_tag:str, catg_tag:str):\n",
    "    \n",
    "    \"\"\" 📢 네이버 지도의 마지막 페이지까지 크롤링 \"\"\"\n",
    "    \n",
    "    driver = Open_chrome(search)\n",
    "    \n",
    "    df = pd.DataFrame()\n",
    "    previous_text = None  \n",
    "\n",
    "    while True:\n",
    "        now_page = driver.find_element(By.CSS_SELECTOR, f\"#app-root > div > div.XUrfU > div.zRM9F > a.mBN2s.qxokY\")\n",
    "        current_text = now_page.text\n",
    "\n",
    "        if previous_text != current_text:\n",
    "            container_element = driver.find_element(By.CSS_SELECTOR, \"#_pcmap_list_scroll_container\")\n",
    "            scroll_container_by_amount(driver, container_element)\n",
    "\n",
    "            # find_elements(검색어에 따라 변경 필요) : 상호명 / 카테고리\n",
    "            element = driver.find_elements(By.CSS_SELECTOR, ele_tag)\n",
    "            name = [i.find_element(By.CSS_SELECTOR, name_tag).text for i in element]\n",
    "            category = [i.find_element(By.CSS_SELECTOR, catg_tag).text for i in element]\n",
    "            \n",
    "            print('현재 페이지:', current_text)\n",
    "            print(name)\n",
    "            \n",
    "            new_data = {'Name': name, 'Category': category, 'Search': search}\n",
    "            df = df.append(pd.DataFrame(new_data), ignore_index=True)\n",
    "            df.to_excel(f'./data/{search}_navermap_크롤링.xlsx', index=False)\n",
    "            \n",
    "            # 다음 페이지 클릭\n",
    "            driver.find_element(By.CSS_SELECTOR, \"#app-root > div > div.XUrfU > div.zRM9F > a:nth-child(7) > svg\").click()\n",
    "\n",
    "        else:\n",
    "            break\n",
    "\n",
    "        previous_text = current_text\n",
    "        \n",
    "    return df"
   ]
  },
  {
   "cell_type": "code",
   "execution_count": 8,
   "id": "ae1fa255",
   "metadata": {
    "ExecuteTime": {
     "end_time": "2023-08-23T08:32:13.273976Z",
     "start_time": "2023-08-23T08:30:46.780821Z"
    },
    "scrolled": true
   },
   "outputs": [
    {
     "name": "stdout",
     "output_type": "stream",
     "text": [
      "현재 페이지: 1\n",
      "['아방베이커리 센터필드점', '소쿠리베니스', 'SADDLER HAUS', '루비스 카페', '수플레 팬케이크 소과당 본점', '뉴욕라츠오베이글스', '런던 베이글 뮤지엄 도산점', '트키 도산', '알베르', '마일스톤 커피', '쇼토', '카페무니 압구정본점', '클로리스 코엑스몰점', '1209', '까치화방 강남역점', '더달달', '라브리크 서울', '서울북카페 욕망의북카페', '정월', '호두까끼형제', '쿠스 카페', '올드페리도넛 가로수길점', '가배도 신논현', '도산맘마미아', '스크렘', '비파티세리', '세시셀라 도산공원점', '젠제로', '바게트케이', '노티드 삼성', '이디야커피랩', '마니달오 선릉본점', '고센인코퍼레이티드 청담점', '이치서울']\n",
      "현재 페이지: 2\n",
      "['플디 도산점', '브레댄코 강남대치점', '카멜커피 도산점', '나따오비까 신사점', '포스톤즈 삼성본점', '플라워베이커리 가로수길점', '구테로이테', '듀자미', '로젯런던베이글', '우디집 도산점', '케이코스랜드', '쿠라우니', '설빙 강남역점', '빙빙빙', '젠틀커피', '% ARABICA 스타필드 코엑스몰점', '아가젤라또', '테이블스', '카페 라미스콘 청담점', '쁠로13', '블레스롤 강남논현점', '하이테이블 차병원사거리점', '바빌리안테이블', '가배도 코엑스점', '껠끄쇼즈', '빵어니스타 압구정점', '왕가탕후루 강남역점', '크리에잇쿠키 역삼본점', '프롬헤라스 도산 플래그십 스토어', '엔커피스튜디오']\n",
      "현재 페이지: 3\n",
      "['몽크투바흐', '애니오케이션 카페', '티하우스 청담', '에그서울', '브라이언스커피', '아우어베이커리 가로수길점', '블루보틀 역삼 카페', '마일드하이클럽', '타르틴베이커리 도산점', '겟썸커피 Downstairs', '스테이지 바이 고디바', '파이하우스', '더죠이 코엑스몰점', '버터풀앤크리멀러스 압구정 본점', '리암스 케이커리', '크림라벨 신사점', '읍천리382 압구정 직영점', '커피스니퍼 센터필드점', '나따오비까 대치점', '카페온화 강남점', '노아베이커리 압구정점', '오더에스프레소', '배스킨라빈스 파르나스몰점', '트리아농', '비건비거닝', '스타벅스 학동역점', '배스킨라빈스 BROWN청담점', '맷카페', '랜디스도넛 가로수길점', '파스텔드나따 압구정']\n",
      "현재 페이지: 4\n",
      "['빨라쪼델프레도 코엑스몰점', '셀렉티드마롱', '베이커베이커', '외계인방앗간 본점', '윌비스콘', '꽁티드툴레아', '마르케', '펠트커피 도산공원점', 'Neue Atmung', '먼데이투선데이', '레자미오네뜨', '무원', '압구정망고', '더스노우 대치본점', '홍팥집 세곡점', '클로리스 역삼 GFC점', '아르고티 대치점', '인터랙트 with 글루텐프리', '베이커리로컬 강남역점', '리퍼크', '쎄쎄종', '에이븐하우스 청담', 'TWG Tea 압구정 안다즈점', '사푼사푼', '미엘', '알에비뉴', '와플판다', '스템커피', '원더시티 뉴욕컵케이크', '고이스트 에스프레소 바']\n",
      "현재 페이지: 5\n",
      "['하나둘 갤러리카페', '맥파이앤타이거 신사티룸', '빵빠르', '젤라떼리아 도도 청담', '르뱅룰즈 선릉점', '이코복스커피 스튜디오 신사점', '은곡빵집', '에이블:에블씽', '포스톤즈 삼성파르나스몰점', '마망갸또 신사점', '피어커피 코엑스', '베러댄커피', '프레임 바이로찌', '팥고당 대치점', '흐비지떼', '인포메이션카페', '심재 선릉', '드코닝 코엑스몰점', '해피해피케이크', '버터앤쉘터 청담점', '브랑제리 루엘', '스타벅스 봉은사로선정릉점', '르뱅룰즈 강남구청역점', '브라운핸즈 도곡점', '강남고망고케이크', '카페 디올', '문화시민 서울', '니블스', 'RPM', '카페올로']\n",
      "현재 페이지: 6\n",
      "['원퍼밀커피 신논현본점', '페르에피스', '스타벅스 강남오거리점', '구슬스', '디저트로이', '마사비스 현대백화점 압구정본점', '그레이 그리스트밀', '10꼬르소꼬모 카페 청담점', 'sweets EPI', '빌리엔젤 강남역5호점', '스타벅스 삼성역섬유센터R점', '베시 더 스콘', '루자인 에스프레소 바', '빈터 커피 바', '그랜드 인터컨티넨탈 서울 파르나스 그랜드 델리', '바나프레소 강남역점', '할리스 강남역점', '스타벅스 압구정로데오역점', '아벡제이베이커리', '연리희재 갤러리아압구정', '르모에누', '본 카페 앤 팬케이크', '고디바 가로수길 플래그십', '파브리끄 역삼GFC점', '모센즈스위트 신사점', '멜로드 도산', '벤스쿠키 가로수길점', '카페 두레브 세곡점', '퀸즈파크 청담점', '안다즈 서울 강남 아츠']\n"
     ]
    },
    {
     "data": {
      "text/html": [
       "<div>\n",
       "<style scoped>\n",
       "    .dataframe tbody tr th:only-of-type {\n",
       "        vertical-align: middle;\n",
       "    }\n",
       "\n",
       "    .dataframe tbody tr th {\n",
       "        vertical-align: top;\n",
       "    }\n",
       "\n",
       "    .dataframe thead th {\n",
       "        text-align: right;\n",
       "    }\n",
       "</style>\n",
       "<table border=\"1\" class=\"dataframe\">\n",
       "  <thead>\n",
       "    <tr style=\"text-align: right;\">\n",
       "      <th></th>\n",
       "      <th>Name</th>\n",
       "      <th>Category</th>\n",
       "      <th>Search</th>\n",
       "    </tr>\n",
       "  </thead>\n",
       "  <tbody>\n",
       "    <tr>\n",
       "      <th>0</th>\n",
       "      <td>아방베이커리 센터필드점</td>\n",
       "      <td>베이커리</td>\n",
       "      <td>강남 카페</td>\n",
       "    </tr>\n",
       "    <tr>\n",
       "      <th>1</th>\n",
       "      <td>소쿠리베니스</td>\n",
       "      <td>카페</td>\n",
       "      <td>강남 카페</td>\n",
       "    </tr>\n",
       "    <tr>\n",
       "      <th>2</th>\n",
       "      <td>SADDLER HAUS</td>\n",
       "      <td>와플</td>\n",
       "      <td>강남 카페</td>\n",
       "    </tr>\n",
       "    <tr>\n",
       "      <th>3</th>\n",
       "      <td>루비스 카페</td>\n",
       "      <td>카페,디저트</td>\n",
       "      <td>강남 카페</td>\n",
       "    </tr>\n",
       "    <tr>\n",
       "      <th>4</th>\n",
       "      <td>수플레 팬케이크 소과당 본점</td>\n",
       "      <td>카페,디저트</td>\n",
       "      <td>강남 카페</td>\n",
       "    </tr>\n",
       "    <tr>\n",
       "      <th>...</th>\n",
       "      <td>...</td>\n",
       "      <td>...</td>\n",
       "      <td>...</td>\n",
       "    </tr>\n",
       "    <tr>\n",
       "      <th>179</th>\n",
       "      <td>멜로드 도산</td>\n",
       "      <td>케이크전문</td>\n",
       "      <td>강남 카페</td>\n",
       "    </tr>\n",
       "    <tr>\n",
       "      <th>180</th>\n",
       "      <td>벤스쿠키 가로수길점</td>\n",
       "      <td>베이커리</td>\n",
       "      <td>강남 카페</td>\n",
       "    </tr>\n",
       "    <tr>\n",
       "      <th>181</th>\n",
       "      <td>카페 두레브 세곡점</td>\n",
       "      <td>카페</td>\n",
       "      <td>강남 카페</td>\n",
       "    </tr>\n",
       "    <tr>\n",
       "      <th>182</th>\n",
       "      <td>퀸즈파크 청담점</td>\n",
       "      <td>브런치</td>\n",
       "      <td>강남 카페</td>\n",
       "    </tr>\n",
       "    <tr>\n",
       "      <th>183</th>\n",
       "      <td>안다즈 서울 강남 아츠</td>\n",
       "      <td>카페,디저트</td>\n",
       "      <td>강남 카페</td>\n",
       "    </tr>\n",
       "  </tbody>\n",
       "</table>\n",
       "<p>184 rows × 3 columns</p>\n",
       "</div>"
      ],
      "text/plain": [
       "                Name Category Search\n",
       "0       아방베이커리 센터필드점     베이커리  강남 카페\n",
       "1             소쿠리베니스       카페  강남 카페\n",
       "2       SADDLER HAUS       와플  강남 카페\n",
       "3             루비스 카페   카페,디저트  강남 카페\n",
       "4    수플레 팬케이크 소과당 본점   카페,디저트  강남 카페\n",
       "..               ...      ...    ...\n",
       "179           멜로드 도산    케이크전문  강남 카페\n",
       "180       벤스쿠키 가로수길점     베이커리  강남 카페\n",
       "181       카페 두레브 세곡점       카페  강남 카페\n",
       "182         퀸즈파크 청담점      브런치  강남 카페\n",
       "183     안다즈 서울 강남 아츠   카페,디저트  강남 카페\n",
       "\n",
       "[184 rows x 3 columns]"
      ]
     },
     "execution_count": 8,
     "metadata": {},
     "output_type": "execute_result"
    }
   ],
   "source": [
    "search = \"강남 카페\"\n",
    "element_tag = \"#_pcmap_list_scroll_container > ul > li > div.CHC5F > a.tzwk0 > div > div\"\n",
    "name_tag = \"span.place_bluelink.TYaxT\"\n",
    "category_tag = \"span.KCMnt\"\n",
    "\n",
    "result_df = Navermap_crawling(search, element_tag, name_tag, category_tag)\n",
    "result_df"
   ]
  },
  {
   "cell_type": "code",
   "execution_count": 7,
   "id": "e2141321",
   "metadata": {
    "ExecuteTime": {
     "end_time": "2023-08-23T08:30:46.411820Z",
     "start_time": "2023-08-23T08:29:15.567921Z"
    }
   },
   "outputs": [
    {
     "name": "stdout",
     "output_type": "stream",
     "text": [
      "현재 페이지: 1\n",
      "['울트라빈티지', '커먼유니크 쇼룸', '도쿄유즈드 홍대', '무신사 스탠다드 홍대', '널디 플래그쉽스토어 서울', '하이츠스토어', '웍스아웃 홍대 라이즈점', '젠틀몬스터 홍대 플래그십스토어', '프라이탁 홍대점', 'ABC마트 GS 홍대점', '공구우먼 합정점', '호텐', '슈펜 홍대점', '예스아이씨', '아더 홍대 스페이스', '모드맨', '에버닌스테어스', '에이랜드 홍대점', '커먼유니크 쇼룸', '시공간 연남점', '미니스피어싱 홍대점', '빈티지샵 페이지원', '젝시믹스 핏 스토어 홍대점', '드림윙즈', '미니스피어싱 홍대2호점', 'AAPLACE', '로미스토리 플래그십스토어 홍대점', '리터치', '칼하트WIP 홍대와우산점', '로스트가든', '게릴라라디오']\n",
      "현재 페이지: 2\n",
      "['하바티', '미래의 미래', '풋락커 홍대점', '스페이스모리스', '핑크에이지 홍대본점', '탑텐 홍대점', '브라샵로라 홍대점', '울트라빈티지', '어나더어썸 홍대점', '바르카', '로맨틱무브 홍대본점', '힐링햇 홍대점', '스윙잉서울 홍대점', '미로미로 홍대점', '아베르하우스', '루카', '필악세사리', '빈티지산타', '라이커샵', '에잇스톤스', '리틀리들', 'ABC마트 SP 홍대점', '빈티지바이로웰', '해피히피', '하이마운틴 빈티지', '에메필 홍대2호점', 'LMC HONGDAE FLAGSHIP STORE', '아홀로틀실버']\n",
      "현재 페이지: 3\n",
      "['가발나라 홍대점', '와우빈티지 홍대점', '교복몰 홍대점', 'ABC마트 GS 홍대홍익로점', '리슬 홍대점', '시공간 홍대본점', '챔피온스토어 홍대AK&점', '한스룸 연남', '인그루브', '닥터마틴 홍대점', '피치비 위그', '탑텐 홍대중앙점', '주코빈티지', '오늘의 빈티지', '로서울', 'Lee 홍대플래그쉽스토어', '유티에이서울', '잠자는라푼젤', '마리떼프랑소와저버 홍대점', '부기홀리데이', '쥬니쥬 쇼룸 연남점', '엔드 스트릿', '샘플라스', '홀라인 홍대점', '커버낫 플래그쉽 홍대점', '에메필 홍대점', '라이프워크 홍대대리점']\n",
      "현재 페이지: 4\n",
      "['모나코빈티지', '코앤클로 홍대점', '날아라크루', '솔브 홍대직매장', '뚫다 AK플라자 홍대', '라브로스', '더크로우', '아카이브 볼드', '에이징 퍼센트', '우주별커플', '에이에이플레이스', '엔터문 쇼룸', '썬플라워', '잔다리로스토어', '빈티지살롱', '어파트프롬댓 서교점', '키스오브라이프', '유니팝콘', '드파운드 합정 쇼룸', '바라에메트', '오버더피치', '굿잠', '빈티지플러스', '피어싱찌', '프로그', '빈티지하이']\n",
      "현재 페이지: 5\n",
      "['시공간 홍대정문점', '브라운브레스 홍대플래그쉽스토어', '매드로즈', '옷맛집', '로파우사다 홍대역점', '팔렛 홍대플래그십스토어', '썸데이즈', '마리몽듀', 'THE CREAKERS', '르아로', '하이모 홍대신촌지점', '뉴발란스 신촌복합관점', '오츠', '블러쉬앤코 합정', 'VASS 베이스', '키키러브', '미향언니패션잡화점', '플래프', '레트로바운스', '화이트스튜디오 홍대점', '크라켄빈티지', '아델포이', '브루클린빈티지', '스테이블 그라운드 합정']\n",
      "현재 페이지: 6\n",
      "['해브해드 홍대점', '유코빈티지', '모야키즈', '중고명품 쎄미', '쇼핑그람', '레드아이', '돈키호테', '연남동비주얼', 'eunshop', '모아잡화점', '아나크', '미지', '무우', '언니네악세사리', 'SEOUL VINTAGE', '밀라튜튜', '탱고슈즈 마라비샤', '데일리윙', '에이미컴퍼니', '빽투더빈티지']\n"
     ]
    },
    {
     "data": {
      "text/html": [
       "<div>\n",
       "<style scoped>\n",
       "    .dataframe tbody tr th:only-of-type {\n",
       "        vertical-align: middle;\n",
       "    }\n",
       "\n",
       "    .dataframe tbody tr th {\n",
       "        vertical-align: top;\n",
       "    }\n",
       "\n",
       "    .dataframe thead th {\n",
       "        text-align: right;\n",
       "    }\n",
       "</style>\n",
       "<table border=\"1\" class=\"dataframe\">\n",
       "  <thead>\n",
       "    <tr style=\"text-align: right;\">\n",
       "      <th></th>\n",
       "      <th>Name</th>\n",
       "      <th>Category</th>\n",
       "      <th>Search</th>\n",
       "    </tr>\n",
       "  </thead>\n",
       "  <tbody>\n",
       "    <tr>\n",
       "      <th>0</th>\n",
       "      <td>울트라빈티지</td>\n",
       "      <td>구제의류</td>\n",
       "      <td>홍대 옷</td>\n",
       "    </tr>\n",
       "    <tr>\n",
       "      <th>1</th>\n",
       "      <td>커먼유니크 쇼룸</td>\n",
       "      <td>여성의류</td>\n",
       "      <td>홍대 옷</td>\n",
       "    </tr>\n",
       "    <tr>\n",
       "      <th>2</th>\n",
       "      <td>도쿄유즈드 홍대</td>\n",
       "      <td>구제의류</td>\n",
       "      <td>홍대 옷</td>\n",
       "    </tr>\n",
       "    <tr>\n",
       "      <th>3</th>\n",
       "      <td>무신사 스탠다드 홍대</td>\n",
       "      <td>종합패션</td>\n",
       "      <td>홍대 옷</td>\n",
       "    </tr>\n",
       "    <tr>\n",
       "      <th>4</th>\n",
       "      <td>널디 플래그쉽스토어 서울</td>\n",
       "      <td>패션</td>\n",
       "      <td>홍대 옷</td>\n",
       "    </tr>\n",
       "    <tr>\n",
       "      <th>...</th>\n",
       "      <td>...</td>\n",
       "      <td>...</td>\n",
       "      <td>...</td>\n",
       "    </tr>\n",
       "    <tr>\n",
       "      <th>151</th>\n",
       "      <td>밀라튜튜</td>\n",
       "      <td>유아동복</td>\n",
       "      <td>홍대 옷</td>\n",
       "    </tr>\n",
       "    <tr>\n",
       "      <th>152</th>\n",
       "      <td>탱고슈즈 마라비샤</td>\n",
       "      <td>신발</td>\n",
       "      <td>홍대 옷</td>\n",
       "    </tr>\n",
       "    <tr>\n",
       "      <th>153</th>\n",
       "      <td>데일리윙</td>\n",
       "      <td>남성의류</td>\n",
       "      <td>홍대 옷</td>\n",
       "    </tr>\n",
       "    <tr>\n",
       "      <th>154</th>\n",
       "      <td>에이미컴퍼니</td>\n",
       "      <td>보세의류</td>\n",
       "      <td>홍대 옷</td>\n",
       "    </tr>\n",
       "    <tr>\n",
       "      <th>155</th>\n",
       "      <td>빽투더빈티지</td>\n",
       "      <td>패션</td>\n",
       "      <td>홍대 옷</td>\n",
       "    </tr>\n",
       "  </tbody>\n",
       "</table>\n",
       "<p>156 rows × 3 columns</p>\n",
       "</div>"
      ],
      "text/plain": [
       "              Name Category Search\n",
       "0           울트라빈티지     구제의류   홍대 옷\n",
       "1         커먼유니크 쇼룸     여성의류   홍대 옷\n",
       "2         도쿄유즈드 홍대     구제의류   홍대 옷\n",
       "3      무신사 스탠다드 홍대     종합패션   홍대 옷\n",
       "4    널디 플래그쉽스토어 서울       패션   홍대 옷\n",
       "..             ...      ...    ...\n",
       "151           밀라튜튜     유아동복   홍대 옷\n",
       "152      탱고슈즈 마라비샤       신발   홍대 옷\n",
       "153           데일리윙     남성의류   홍대 옷\n",
       "154         에이미컴퍼니     보세의류   홍대 옷\n",
       "155         빽투더빈티지       패션   홍대 옷\n",
       "\n",
       "[156 rows x 3 columns]"
      ]
     },
     "execution_count": 7,
     "metadata": {},
     "output_type": "execute_result"
    }
   ],
   "source": [
    "search = \"홍대 옷\"\n",
    "element_tag = \"#_pcmap_list_scroll_container > ul > li > div.qbGlu > div.ouxiq.icT4K > a:nth-child(1) > div > div\"\n",
    "name_tag = \"span.place_bluelink.YwYLL\"\n",
    "category_tag = \"span.YzBgS\"\n",
    "\n",
    "result_df = Navermap_crawling(search, element_tag, name_tag, category_tag)\n",
    "result_df"
   ]
  }
 ],
 "metadata": {
  "hide_input": false,
  "kernelspec": {
   "display_name": "Python 3 (ipykernel)",
   "language": "python",
   "name": "python3"
  },
  "language_info": {
   "codemirror_mode": {
    "name": "ipython",
    "version": 3
   },
   "file_extension": ".py",
   "mimetype": "text/x-python",
   "name": "python",
   "nbconvert_exporter": "python",
   "pygments_lexer": "ipython3",
   "version": "3.9.13"
  },
  "toc": {
   "base_numbering": 1,
   "nav_menu": {},
   "number_sections": true,
   "sideBar": true,
   "skip_h1_title": false,
   "title_cell": "Table of Contents",
   "title_sidebar": "Contents",
   "toc_cell": false,
   "toc_position": {
    "height": "calc(100% - 180px)",
    "left": "10px",
    "top": "150px",
    "width": "165px"
   },
   "toc_section_display": true,
   "toc_window_display": true
  },
  "varInspector": {
   "cols": {
    "lenName": 16,
    "lenType": 16,
    "lenVar": 40
   },
   "kernels_config": {
    "python": {
     "delete_cmd_postfix": "",
     "delete_cmd_prefix": "del ",
     "library": "var_list.py",
     "varRefreshCmd": "print(var_dic_list())"
    },
    "r": {
     "delete_cmd_postfix": ") ",
     "delete_cmd_prefix": "rm(",
     "library": "var_list.r",
     "varRefreshCmd": "cat(var_dic_list()) "
    }
   },
   "types_to_exclude": [
    "module",
    "function",
    "builtin_function_or_method",
    "instance",
    "_Feature"
   ],
   "window_display": false
  }
 },
 "nbformat": 4,
 "nbformat_minor": 5
}
